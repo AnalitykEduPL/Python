{
 "cells": [
  {
   "cell_type": "code",
   "execution_count": null,
   "metadata": {},
   "outputs": [],
   "source": [
    "import pyautogui as gui,time\n",
    "while True:\n",
    "    pos=gui.position()  # current mouse x and y\n",
    "    print(pos)\n",
    "    time.sleep(2) "
   ]
  },
  {
   "cell_type": "code",
   "execution_count": 1,
   "metadata": {},
   "outputs": [],
   "source": [
    "import pyautogui as gui, time\n",
    "\n",
    "def test_notatnik():\n",
    "    screenWidth, screenHeight = gui.size()\n",
    "    gui.click(13,1065)\n",
    "    gui.typewrite('Notatnik', interval=0.25)\n",
    "    gui.press('enter')\n",
    "    time.sleep(2)\n",
    "#maksymalizowanie okna\n",
    "    gui.keyDown('alt')\n",
    "    gui.press(' ')\n",
    "    gui.press('x')\n",
    "    gui.keyUp('alt')\n",
    "#kliknięcie w pusty notatnik\n",
    "    gui.click(250,50)\n",
    "    gui.typewrite(\"Czesc tu twoj pierwszy robot pozdrawiam\")\n",
    "#kliknięcie w menu format\n",
    "    gui.click(89, 34)\n",
    "#kliknięcie w czcionka\n",
    "    gui.click(121, 75)\n",
    "    time.sleep(1)\n",
    " #kliknięcie w wartość \"26\" czcionki\n",
    "    gui.click(388, 213)\n",
    "    gui.typewrite(\"26\")\n",
    "  #kliknięcie w OK\n",
    "    gui.click(313, 591)\n",
    "\n",
    "test_notatnik()"
   ]
  },
  {
   "cell_type": "markdown",
   "metadata": {},
   "source": [
    "https://pyautogui.readthedocs.io/en/latest/quickstart.html#general-functions"
   ]
  },
  {
   "cell_type": "code",
   "execution_count": null,
   "metadata": {},
   "outputs": [],
   "source": []
  },
  {
   "cell_type": "code",
   "execution_count": null,
   "metadata": {},
   "outputs": [],
   "source": []
  }
 ],
 "metadata": {
  "kernelspec": {
   "display_name": "Python 3",
   "language": "python",
   "name": "python3"
  },
  "language_info": {
   "codemirror_mode": {
    "name": "ipython",
    "version": 3
   },
   "file_extension": ".py",
   "mimetype": "text/x-python",
   "name": "python",
   "nbconvert_exporter": "python",
   "pygments_lexer": "ipython3",
   "version": "3.7.0"
  }
 },
 "nbformat": 4,
 "nbformat_minor": 2
}
